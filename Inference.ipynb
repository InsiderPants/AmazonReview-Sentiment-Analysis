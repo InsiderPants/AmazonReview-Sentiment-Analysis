{
 "cells": [
  {
   "cell_type": "code",
   "execution_count": 1,
   "metadata": {},
   "outputs": [
    {
     "name": "stderr",
     "output_type": "stream",
     "text": [
      "Using TensorFlow backend.\n"
     ]
    }
   ],
   "source": [
    "from utils.preprocessing import *\n",
    "from utils.config import *\n",
    "from utils.model import *"
   ]
  },
  {
   "cell_type": "code",
   "execution_count": 2,
   "metadata": {},
   "outputs": [
    {
     "name": "stdout",
     "output_type": "stream",
     "text": [
      "Reading Dataset...\n",
      "It took 2.718705654144287 secs to load.\n"
     ]
    }
   ],
   "source": [
    "# loading dataset\n",
    "corpus = load_dataset()"
   ]
  },
  {
   "cell_type": "code",
   "execution_count": 3,
   "metadata": {},
   "outputs": [
    {
     "name": "stdout",
     "output_type": "stream",
     "text": [
      "Splitting...\n",
      "It took 1.3216686248779297 secs to split.\n"
     ]
    }
   ],
   "source": [
    "# spliting X and y\n",
    "X, y = splitXY(corpus)"
   ]
  },
  {
   "cell_type": "code",
   "execution_count": 4,
   "metadata": {},
   "outputs": [
    {
     "name": "stdout",
     "output_type": "stream",
     "text": [
      "Cleaning...\n",
      "It took 27.22818350791931 secs to clean.\n"
     ]
    }
   ],
   "source": [
    "# cleaning X\n",
    "clean_X = cleanX(X)"
   ]
  },
  {
   "cell_type": "code",
   "execution_count": 5,
   "metadata": {},
   "outputs": [
    {
     "name": "stdout",
     "output_type": "stream",
     "text": [
      "Building Vocab..\n",
      "It took 13.30741286277771 secs to build vocab.\n"
     ]
    }
   ],
   "source": [
    "# building vocabulary\n",
    "vocab = buildVocab(clean_X)"
   ]
  },
  {
   "cell_type": "code",
   "execution_count": 6,
   "metadata": {},
   "outputs": [],
   "source": [
    "vocab_size = len(vocab)"
   ]
  },
  {
   "cell_type": "code",
   "execution_count": 7,
   "metadata": {},
   "outputs": [
    {
     "name": "stdout",
     "output_type": "stream",
     "text": [
      "Tokenizing and Padding... \n",
      "It took 26.973864555358887 secs to tokenize and pad.\n"
     ]
    }
   ],
   "source": [
    "# tokenizing and padding\n",
    "X_final = tokenizeAndPadd(clean_X, vocab, vocab_size)"
   ]
  },
  {
   "cell_type": "code",
   "execution_count": 8,
   "metadata": {},
   "outputs": [
    {
     "name": "stdout",
     "output_type": "stream",
     "text": [
      "Loading Glove word embedding... \n",
      "Found 400000 word vectors\n",
      "Filling pre-trained embeddings...\n",
      "It took 10.8410062789917 secs to build embedding matrix.\n"
     ]
    }
   ],
   "source": [
    "embedding_matrix = gloveEmbedding(vocab)"
   ]
  },
  {
   "cell_type": "code",
   "execution_count": 9,
   "metadata": {},
   "outputs": [],
   "source": [
    "x = SentimentAnalysis(vocab, vocab_size, embedding_matrix)"
   ]
  },
  {
   "cell_type": "code",
   "execution_count": 10,
   "metadata": {},
   "outputs": [],
   "source": [
    "model = x.build_model()"
   ]
  },
  {
   "cell_type": "code",
   "execution_count": 11,
   "metadata": {},
   "outputs": [
    {
     "name": "stdout",
     "output_type": "stream",
     "text": [
      "Enter String This card really is impressive, I've put every high end game to the test and honestly I miss seeing a number below 60FPS.\n",
      "It took 1.361382007598877 secs to predict.\n",
      "Input sentence: This card really is impressive, I've put every high end game to the test and honestly I miss seeing a number below 60FPS.\n",
      "Score [[0.98341286]]\n",
      "Continue? [Y/n]y\n",
      "Enter String Can't recommend this card anymore. Card is defective after just a little more than 2 months of use. Now having to get a replacement and wait probably 2 weeks or more\n",
      "It took 0.15138912200927734 secs to predict.\n",
      "Input sentence: Can't recommend this card anymore. Card is defective after just a little more than 2 months of use. Now having to get a replacement and wait probably 2 weeks or more\n",
      "Score [[0.00176359]]\n",
      "Continue? [Y/n]n\n"
     ]
    }
   ],
   "source": [
    "while True:\n",
    "    input_seq = input(\"Enter String \")\n",
    "    prediction = x.predict(input_seq, model)\n",
    "    print('Input sentence:', input_seq)\n",
    "    print('Score', prediction)\n",
    "\n",
    "    ans = input(\"Continue? [Y/n]\")\n",
    "    if ans and ans.lower().startswith('n'):\n",
    "        break"
   ]
  },
  {
   "cell_type": "code",
   "execution_count": null,
   "metadata": {},
   "outputs": [],
   "source": []
  }
 ],
 "metadata": {
  "kernelspec": {
   "display_name": "Python 3",
   "language": "python",
   "name": "python3"
  },
  "language_info": {
   "codemirror_mode": {
    "name": "ipython",
    "version": 3
   },
   "file_extension": ".py",
   "mimetype": "text/x-python",
   "name": "python",
   "nbconvert_exporter": "python",
   "pygments_lexer": "ipython3",
   "version": "3.6.8"
  }
 },
 "nbformat": 4,
 "nbformat_minor": 2
}
